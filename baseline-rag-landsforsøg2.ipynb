{
 "cells": [
  {
   "cell_type": "markdown",
   "id": "0af80224-ed68-497e-8cfd-29f3a0c5f31b",
   "metadata": {},
   "source": [
    "# Baseline RAG - landsforsøg 2022 pdf"
   ]
  },
  {
   "cell_type": "markdown",
   "id": "9e45b867-f920-44a8-ac15-7f8f8961db93",
   "metadata": {},
   "source": [
    "## Setup"
   ]
  },
  {
   "cell_type": "code",
   "execution_count": 1,
   "id": "3ba3518b-d172-4507-bfc4-35347ebef4c4",
   "metadata": {},
   "outputs": [],
   "source": [
    "#%pip install llama-index-readers-smart-pdf-loader\n",
    "#%pip install llama-parse"
   ]
  },
  {
   "cell_type": "code",
   "execution_count": 1,
   "id": "4b531daa-2211-4c98-b8ff-7d792addcbb0",
   "metadata": {},
   "outputs": [],
   "source": [
    "import os\n",
    "import chromadb\n",
    "import chromadb.utils.embedding_functions as embedding_functions\n",
    "from chromadb import Settings\n",
    "from IPython.display import Markdown, display\n",
    "\n",
    "from llama_index.core import SimpleDirectoryReader, VectorStoreIndex\n",
    "from llama_index.core import PromptTemplate, SimpleDirectoryReader\n",
    "\n",
    "from llama_index.core.node_parser import SentenceSplitter\n",
    "from llama_index.core.ingestion import IngestionPipeline\n",
    "from llama_index.vector_stores.chroma import ChromaVectorStore\n",
    "from openai import OpenAI, AzureOpenAI\n",
    "\n",
    "from dotenv import load_dotenv\n",
    "\n",
    "from llmsherpa.readers import LayoutPDFReader\n",
    "from llama_index.readers.smart_pdf_loader import SmartPDFLoader\n",
    "\n",
    "#from llama_index.llms.azure_openai import AzureOpenAI\n",
    "#rom llama_index.embeddings.azure_openai import AzureOpenAIEmbedding\n",
    "\n",
    "\n",
    "import importlib\n",
    "import util\n",
    "\n",
    "#importlib.reload(util.helpers)\n",
    "from util.helpers import create_and_save_md_files, get_malazan_pages, get_office_pages, get_friends_pages, get_theoffice_pages"
   ]
  },
  {
   "cell_type": "code",
   "execution_count": 2,
   "id": "d04907f9-c54f-466e-8a58-94fcbc67e9a0",
   "metadata": {},
   "outputs": [],
   "source": [
    "load_dotenv()\n",
    "\n",
    "OPENAI_API_KEY = os.getenv(\"OPENAI_API_KEY\")\n",
    "AZURE_OPENAI_ENDPOINT = os.getenv(\"AZURE_OPENAI_ENDPOINT\")"
   ]
  },
  {
   "cell_type": "code",
   "execution_count": 3,
   "id": "56782cbc-ee60-4c71-b1a1-2b52bbcf3be7",
   "metadata": {},
   "outputs": [],
   "source": [
    "# ChromaDB Vector Store\n",
    "chroma_client = chromadb.PersistentClient(\n",
    "    path=\"./data/baseline-rag/chromadb\", settings=Settings(allow_reset=True))\n",
    "\n",
    "openai_client = AzureOpenAI(\n",
    "    api_key=OPENAI_API_KEY,  \n",
    "    api_version=\"2024-05-01-preview\", # https://learn.microsoft.com/en-us/azure/ai-services/openai/reference?WT.mc_id=AZ-MVP-5004796\n",
    "    azure_endpoint=os.getenv(\"AZURE_OPENAI_ENDPOINT\")\n",
    ")\n",
    "\n",
    "openai_ef = embedding_functions.OpenAIEmbeddingFunction(\n",
    "    api_key=OPENAI_API_KEY,\n",
    "    model_name=\"text-embedding-ada-002\",\n",
    "    api_type=\"azure\",\n",
    "    api_version=\"2024-05-01-preview\"\n",
    ")"
   ]
  },
  {
   "cell_type": "markdown",
   "id": "4bdd079c-e39d-400a-b7ed-f66c35bef4c2",
   "metadata": {},
   "source": [
    "## Load document(s)"
   ]
  },
  {
   "cell_type": "markdown",
   "id": "cb3e7ff1-87a8-49a8-8540-60b410a825c6",
   "metadata": {},
   "source": [
    "### Attempt 1: LayoutPDFReader"
   ]
  },
  {
   "cell_type": "code",
   "execution_count": 4,
   "id": "9cdf2929-b84e-4a61-81a9-74e4b2d581e3",
   "metadata": {},
   "outputs": [],
   "source": [
    "llmsherpa_api_url = \"https://readers.llmsherpa.com/api/document/developer/parseDocument?renderFormat=all\"\n",
    "pdf_reader = LayoutPDFReader(llmsherpa_api_url)\n",
    "pdf = \"landsforsøg/planter_landsforsogene_2022.pdf\"\n",
    "doc = pdf_reader.read_pdf(pdf)"
   ]
  },
  {
   "cell_type": "code",
   "execution_count": 5,
   "id": "1e1839be-eed7-41f8-b4d4-33fea177f3dc",
   "metadata": {},
   "outputs": [
    {
     "data": {
      "text/plain": [
       "5086"
      ]
     },
     "execution_count": 5,
     "metadata": {},
     "output_type": "execute_result"
    }
   ],
   "source": [
    "len(doc.chunks())"
   ]
  },
  {
   "cell_type": "code",
   "execution_count": 6,
   "id": "e92fa2f7-f07f-496a-b733-5bc1403b52f8",
   "metadata": {},
   "outputs": [
    {
     "data": {
      "text/plain": [
       "<llmsherpa.readers.layout_reader.Paragraph at 0x145c69e50>"
      ]
     },
     "execution_count": 6,
     "metadata": {},
     "output_type": "execute_result"
    }
   ],
   "source": [
    "doc.chunks()[0]"
   ]
  },
  {
   "cell_type": "markdown",
   "id": "eda6da8d-8050-49c1-84a3-4b81bd07b37f",
   "metadata": {},
   "source": [
    "Using VectorStoreIndex below yields an Authentication error\n",
    "\n",
    "AuthenticationError: Error code: 401 - {'error': {'message': 'Incorrect API key provided: e611f630********************6e3d. You can find your API key at https://platform.openai.com/account/api-keys.', 'type': 'invalid_request_error', 'param': None, 'code': 'invalid_api_key'}}"
   ]
  },
  {
   "cell_type": "code",
   "execution_count": null,
   "id": "47530215-1089-4d26-be99-d4c22c86656c",
   "metadata": {},
   "outputs": [],
   "source": [
    "from llama_index.core import VectorStoreIndex, SimpleDirectoryReader, Document\n",
    "\n",
    "index = VectorStoreIndex([])\n",
    "for chunk in doc.chunks():\n",
    "    index.insert(Document(text=chunk.to_context_text(), extra_info={}))\n",
    "query_engine = index.as_query_engine()\n",
    "\n",
    "# Let's run one query\n",
    "response = query_engine.query(\"list all the tasks that work with bart\")\n",
    "print(response)"
   ]
  },
  {
   "cell_type": "code",
   "execution_count": null,
   "id": "f99819a5-445e-4c6d-b63f-d1d260f61b40",
   "metadata": {},
   "outputs": [],
   "source": [
    "index = VectorStoreIndex.from_documents(doc)\n",
    "#TypeError: 'Document' object is not iterable"
   ]
  },
  {
   "cell_type": "markdown",
   "id": "c241c12d-bc2a-4d56-bda4-8b8c4abcf00a",
   "metadata": {},
   "source": [
    "### Attempt 2: SmartPDFLoader\n",
    "https://llamahub.ai/l/readers/llama-index-readers-smart-pdf-loader?from="
   ]
  },
  {
   "cell_type": "code",
   "execution_count": 4,
   "id": "bbb79d87-5c50-42fa-a499-3fcce35a61b4",
   "metadata": {},
   "outputs": [
    {
     "name": "stdout",
     "output_type": "stream",
     "text": [
      "landsforsøg/Husdyrbrugloven.pdf\n",
      "landsforsøg/planter_landsforsogene_2023.pdf\n",
      "landsforsøg/planter_landsforsogene_2022.pdf\n",
      "landsforsøg/FT-73_Klovvaskere_web.pdf\n"
     ]
    }
   ],
   "source": [
    "llmsherpa_api_url = \"https://readers.llmsherpa.com/api/document/developer/parseDocument?renderFormat=all\"\n",
    "pdf_loader = SmartPDFLoader(llmsherpa_api_url=llmsherpa_api_url)\n",
    "#pdf = \"landsforsøg/planter_landsforsogene_2022.pdf\"\n",
    "#documents = pdf_loader.load_data(pdf)\n",
    "\n",
    "documents = []\n",
    "for file in os.listdir(\"landsforsøg\"):\n",
    "    filepath = f\"landsforsøg/{file}\"\n",
    "    if \"pdf\" in filepath:\n",
    "        print(filepath)\n",
    "        doc = pdf_loader.load_data(filepath)\n",
    "        documents.append(doc)"
   ]
  },
  {
   "cell_type": "code",
   "execution_count": null,
   "id": "42d52d89-be8d-4bcf-8084-01cc57a78f9a",
   "metadata": {},
   "outputs": [],
   "source": [
    "#authentication error\n",
    "#index = VectorStoreIndex.from_documents(documents)"
   ]
  },
  {
   "cell_type": "code",
   "execution_count": 16,
   "id": "60dbe471-a375-4675-8e9e-ceb9130813ec",
   "metadata": {},
   "outputs": [],
   "source": [
    "from dotenv import load_dotenv\n",
    "\n",
    "load_dotenv(override=True)\n",
    "OPENAI_API_KEY = os.getenv(\"OPENAI_API_KEY\")\n",
    "\n",
    "openai_client = AzureOpenAI(\n",
    "    api_key=OPENAI_API_KEY,  \n",
    "    api_version=\"2024-05-01-preview\", # https://learn.microsoft.com/en-us/azure/ai-services/openai/reference?WT.mc_id=AZ-MVP-5004796\n",
    "    azure_endpoint=os.getenv(\"AZURE_OPENAI_ENDPOINT\")\n",
    ")"
   ]
  },
  {
   "cell_type": "code",
   "execution_count": 5,
   "id": "b0129421-c1ec-4d34-8b63-0450a5217fbd",
   "metadata": {},
   "outputs": [],
   "source": [
    "document_data = []\n",
    "for document in documents:\n",
    "    for idx,doc in enumerate(document):\n",
    "        embedding = openai_client.embeddings.create(\n",
    "            input=doc.text, model=\"text-embedding-ada-002\")\n",
    "        document_data.append({\n",
    "            \"id\": f\"{doc.id_}-{idx}\",\n",
    "            \"text\": doc.text,\n",
    "            \"metadata\":doc.metadata,\n",
    "            \"embedding\": embedding.data[0].embedding\n",
    "        })"
   ]
  },
  {
   "cell_type": "code",
   "execution_count": 12,
   "id": "773adae7-ff45-437c-b01f-73c6e51c11d2",
   "metadata": {},
   "outputs": [],
   "source": [
    "documents = [doc[\"text\"] for doc in document_data]\n",
    "embeddings = [doc[\"embedding\"] for doc in document_data]\n",
    "metadatas = [doc[\"metadata\"] for doc in document_data]\n",
    "ids = [doc[\"id\"] for doc in document_data]"
   ]
  },
  {
   "cell_type": "code",
   "execution_count": 13,
   "id": "2a676d03-70c6-4dc4-9a40-f9eb4484dab4",
   "metadata": {},
   "outputs": [],
   "source": [
    "chroma_client.reset()\n",
    "collection = chroma_client.get_or_create_collection(\n",
    "    name=\"landsforsoeg\", metadata={\"hnsw:space\": \"cosine\"}, embedding_function=openai_ef)"
   ]
  },
  {
   "cell_type": "code",
   "execution_count": 14,
   "id": "9da39b28-f618-42b3-9e97-8772e58a439b",
   "metadata": {},
   "outputs": [],
   "source": [
    "collection.add(\n",
    "    embeddings=embeddings,\n",
    "    documents=documents,\n",
    "    metadatas=metadatas,\n",
    "    ids=ids)"
   ]
  },
  {
   "cell_type": "markdown",
   "id": "1d36c382-25a7-4c4b-a851-7e150551f409",
   "metadata": {},
   "source": [
    "### Retrieval"
   ]
  },
  {
   "cell_type": "code",
   "execution_count": 16,
   "id": "d498fa2a-3bba-4218-83da-35d9c218cfaa",
   "metadata": {},
   "outputs": [],
   "source": [
    "query = \"hvordan kan jeg bedst bekæmpe væselhale?\""
   ]
  },
  {
   "cell_type": "code",
   "execution_count": 17,
   "id": "3bb1ac5d-1204-4fb3-a45c-ba5e6f3804e6",
   "metadata": {},
   "outputs": [
    {
     "data": {
      "text/markdown": [
       "MARKFRØ > Rødsvingel > Bekæmpelse af væselhale i rødsvingel\n",
       "I 2023 er der i samarbejde med DLF videreført en forsøgsserie, som skal belyse mulighederne for bekæmpelse af væselhale i rødsvingel om efteråret.\n",
       "Væselhale skal bekæmpes så tidligt som muligt efter fremspiring.\n",
       "Problemet er, at den spirer over en meget lang periode, og derfor er det vanskeligt at dække af for fremspiring.\n",
       "\n",
       "------------\n",
       "\n",
       "Svampesygdomme > FOTO: SOFIE HÆSTRUP OLESEN, LANDBONORD\n",
       "Optimalt tidspunkt for bekæmpelse af væselhale med Boxer og Mateno Duo.\n",
       "\n",
       "------------\n",
       "\n",
       "Ukrudt > Bekæmpelse af væselhale om efteråret\n",
       "Det understreger, at kemisk bekæmpelse af væselhale ikke kan stå alene, men at bestanden skal bringes ned på et niveau, hvor de tilbageværende væselhale efter kemisk bekæmpelse er få og uden betydning for fortsat opformering og spredning.\n",
       "\n",
       "------------\n",
       "\n",
       "Svampesygdomme > FOTO: SOFIE HÆSTRUP OLESEN, LANDBONORD\n",
       "TABEL 18.\n",
       "Bekæmpelse af væselhale i vinterhvede om efter- året.\n",
       "(E16) Vinterhvede Stadie Væselhale Kemi og udbring- ning, kr.\n",
       "pr.\n",
       "ha Oktober November Antal planter pr.\n",
       "m2 Antal planter pr.\n",
       "m2 Procent effekt 2021-22, 3 forsøg\n",
       "\n",
       "------------\n",
       "\n",
       "Ukrudt > Bekæmpelse af væselhale om efteråret\n",
       "Der er udført tre forsøg i vinterhvede med bekæmpelse af væselhale med forskellige strategier med Boxer, Ma- teno Duo og Atlantis OD i henholdsvis stadie 10-11 og stadie 12.\n",
       "Behandlingerne ses i tabel 18.\n",
       "Forsøgene er udført på arealer med en meget stor be- stand af væselhale, i gennemsnit ca.\n",
       "600 planter pr.\n",
       "m2 ved optælling i oktober.\n",
       "Den tidlige sprøjtning i stadie 10-11 er udført fra 6 til 14 dage efter såning, som i gen- nemsnit har været midt i september.\n",
       "Anden sprøjtning i Forsøgsled 2 og 6 viser, at der er opnået samme effekt- niveau af 1,5 l Boxer pr.\n",
       "ha og 0,7 l Mateno Duo pr.\n",
       "ha.\n",
       "I forsøgsled 3 til 5 er forskellige blandingsforhold mel- lem Boxer og Mateno Duo afprøvet, hvilket samlet er en højere indsats.\n",
       "Effekten er dermed også lidt bedre.\n",
       "Re- sultatet viser også i disse forsøgsled, at der har været et ligeværdigt bidrag fra begge midler."
      ],
      "text/plain": [
       "<IPython.core.display.Markdown object>"
      ]
     },
     "metadata": {},
     "output_type": "display_data"
    }
   ],
   "source": [
    "result = collection.query(query_texts=[query], n_results=5)\n",
    "context = result[\"documents\"][0]\n",
    "#display(Markdown(f\"------------\\n\\n{\"\\n\\n------------\\n\\n\".join(context)}\"))\n",
    "\n",
    "formatted_text = \"\\n\\n------------\\n\\n\".join(context)\n",
    "\n",
    "# Display the formatted markdown\n",
    "display(Markdown(f\"{formatted_text}\"))"
   ]
  },
  {
   "cell_type": "markdown",
   "id": "784d72d4-9bc5-4841-8d9c-ac607e7c754b",
   "metadata": {},
   "source": [
    "## Generation"
   ]
  },
  {
   "cell_type": "code",
   "execution_count": 18,
   "id": "f57f936b-889a-4a9b-8e76-a588a0bfc9f9",
   "metadata": {},
   "outputs": [
    {
     "data": {
      "text/markdown": [
       "You are a helpful assistant that answers questions about landsforsøgene using provided context. You must provide your answer in the Danish language.\n",
       "\n",
       "Question: hvordan kan jeg bedst bekæmpe væselhale?\n",
       "\n",
       "Context: \n",
       "\n",
       "-----------------------------------\n",
       "MARKFRØ > Rødsvingel > Bekæmpelse af væselhale i rødsvingel\n",
       "I 2023 er der i samarbejde med DLF videreført en forsøgsserie, som skal belyse mulighederne for bekæmpelse af væselhale i rødsvingel om efteråret.\n",
       "Væselhale skal bekæmpes så tidligt som muligt efter fremspiring.\n",
       "Problemet er, at den spirer over en meget lang periode, og derfor er det vanskeligt at dække af for fremspiring.\n",
       "\n",
       "Svampesygdomme > FOTO: SOFIE HÆSTRUP OLESEN, LANDBONORD\n",
       "Optimalt tidspunkt for bekæmpelse af væselhale med Boxer og Mateno Duo.\n",
       "\n",
       "Ukrudt > Bekæmpelse af væselhale om efteråret\n",
       "Det understreger, at kemisk bekæmpelse af væselhale ikke kan stå alene, men at bestanden skal bringes ned på et niveau, hvor de tilbageværende væselhale efter kemisk bekæmpelse er få og uden betydning for fortsat opformering og spredning.\n",
       "\n",
       "Svampesygdomme > FOTO: SOFIE HÆSTRUP OLESEN, LANDBONORD\n",
       "TABEL 18.\n",
       "Bekæmpelse af væselhale i vinterhvede om efter- året.\n",
       "(E16) Vinterhvede Stadie Væselhale Kemi og udbring- ning, kr.\n",
       "pr.\n",
       "ha Oktober November Antal planter pr.\n",
       "m2 Antal planter pr.\n",
       "m2 Procent effekt 2021-22, 3 forsøg\n",
       "\n",
       "Ukrudt > Bekæmpelse af væselhale om efteråret\n",
       "Der er udført tre forsøg i vinterhvede med bekæmpelse af væselhale med forskellige strategier med Boxer, Ma- teno Duo og Atlantis OD i henholdsvis stadie 10-11 og stadie 12.\n",
       "Behandlingerne ses i tabel 18.\n",
       "Forsøgene er udført på arealer med en meget stor be- stand af væselhale, i gennemsnit ca.\n",
       "600 planter pr.\n",
       "m2 ved optælling i oktober.\n",
       "Den tidlige sprøjtning i stadie 10-11 er udført fra 6 til 14 dage efter såning, som i gen- nemsnit har været midt i september.\n",
       "Anden sprøjtning i Forsøgsled 2 og 6 viser, at der er opnået samme effekt- niveau af 1,5 l Boxer pr.\n",
       "ha og 0,7 l Mateno Duo pr.\n",
       "ha.\n",
       "I forsøgsled 3 til 5 er forskellige blandingsforhold mel- lem Boxer og Mateno Duo afprøvet, hvilket samlet er en højere indsats.\n",
       "Effekten er dermed også lidt bedre.\n",
       "Re- sultatet viser også i disse forsøgsled, at der har været et ligeværdigt bidrag fra begge midler.\n",
       "\n",
       "-----------------------------------\n",
       "\n"
      ],
      "text/plain": [
       "<IPython.core.display.Markdown object>"
      ]
     },
     "metadata": {},
     "output_type": "display_data"
    }
   ],
   "source": [
    "query = \"hvordan kan jeg bedst bekæmpe væselhale?\"\n",
    "\n",
    "prompt = PromptTemplate(\"\"\"You are a helpful assistant that answers questions about landsforsøgene using provided context. You must provide your answer in the Danish language.\n",
    "\n",
    "Question: {query}\n",
    "\n",
    "Context: \n",
    "\n",
    "-----------------------------------\n",
    "{context}\n",
    "\n",
    "-----------------------------------\n",
    "\n",
    "\"\"\")\n",
    "message = prompt.format(query=query, context=\"\\n\\n\".join(context))\n",
    "display(Markdown(f\"{message}\"))"
   ]
  },
  {
   "cell_type": "code",
   "execution_count": 19,
   "id": "6f15b71f-dbeb-4138-9235-db6c453ffaf3",
   "metadata": {},
   "outputs": [
    {
     "data": {
      "text/markdown": [
       "Væselhale er en invasiv ukrudtstype, der kan være vanskelig at kontrollere og udrydde. Her er nogle metoder til bekæmpelse af væselhale:\n",
       "\n",
       "1. Mekanisk bekæmpelse: Hvis du kun observerer væselhale på små områder, kan man fysisk fjerne ukrudtet ved hånden. Det er vigtigt at sørge for at fjerne hele planten inklusiv roden for at forhindre, at den vokser igen.\n",
       "\n",
       "2. Anvendelse af herbicider: Vælg midler specifikt designet til at bekæmpe græs-lignende ukrudt, og følg vejledningen på produktet nøje for at opnå de bedste resultater. Der er dog blevet observeret resistens overfor visse herbicider hos væselhale, så det kan være nødvendigt at kombinere forskellige metoder.\n",
       "\n",
       "3. Bekæmp væselhale ved at ændre jordens forhold eller afgrøderotation. Væxler du mellem forskellige afgrøder, kan det forstyrre væselhalens livscyklus og reducere frøproduktionen.\n",
       "\n",
       "4. Biologisk bekæmpelse: Frigivelse af naturlige fjender (såsom visse insekter eller pattedyr) kan også bidrage til at kontrollere ukrudtsudbredelsen.\n",
       "\n",
       "5. Forbedre græssets sundhed: Ved at passe godt på græsplænen kan du gøre det sværere for væselhalen at vokse. Dette inkluderer regelmæssig vanding, gødning, og korrekt klipning.\n",
       "\n",
       "6. Hvis du har en stor infestation, kan det være nødvendigt at søge professionel hjælp. En professionel ukrudtsbekæmpelsestjeneste har adgang til stærkere kemikalier og mere effektive metoder.\n",
       "\n",
       "Husk altid at håndtere ukrudtsmidler forsigtigt, da de kan være skadelige for både mennesker og miljø, hvis de ikke bruges korrekt."
      ],
      "text/plain": [
       "<IPython.core.display.Markdown object>"
      ]
     },
     "metadata": {},
     "output_type": "display_data"
    }
   ],
   "source": [
    "query = \"hvordan kan jeg bedst bekæmpe væselhale?\"\n",
    "\n",
    "stream = openai_client.chat.completions.create(\n",
    "    messages=[{\"role\": \"user\", \"content\": query}],\n",
    "    model=\"gpt4\",\n",
    "    stream=True)\n",
    "\n",
    "output = \"\"\n",
    "for chunk in stream:\n",
    "    if chunk.choices:  # Check if the list is not empty\n",
    "        output += chunk.choices[0].delta.content or \"\"\n",
    "    display(Markdown(f\"{output}\"), clear=True)"
   ]
  },
  {
   "cell_type": "markdown",
   "id": "707c16e9-8df3-4558-a3bd-303274ca657c",
   "metadata": {},
   "source": [
    "## Normal RAG example with llamaindex"
   ]
  },
  {
   "cell_type": "code",
   "execution_count": 21,
   "id": "ba467d07-258a-4db8-a02d-68fae55e848d",
   "metadata": {},
   "outputs": [],
   "source": [
    "import chromadb\n",
    "import os\n",
    "\n",
    "from dotenv import load_dotenv\n",
    "from chromadb import Settings\n",
    "from llama_index.llms.openai import OpenAI\n",
    "from llama_index.core import SimpleDirectoryReader, VectorStoreIndex\n",
    "from llama_index.core.node_parser import SentenceSplitter\n",
    "from llama_index.core.ingestion import IngestionPipeline\n",
    "from llama_index.embeddings.openai import OpenAIEmbedding\n",
    "from llama_index.vector_stores.chroma import ChromaVectorStore\n",
    "\n",
    "from llama_index.llms.azure_openai import AzureOpenAI\n",
    "from llama_index.embeddings.azure_openai import AzureOpenAIEmbedding\n",
    "\n",
    "load_dotenv()\n",
    "\n",
    "# ChromaDB Vector Store\n",
    "chroma_client = chromadb.PersistentClient(\n",
    "    path=\"./landsforsøg/data/baseline-rag/chromadb\", settings=Settings(allow_reset=True))\n",
    "chroma_client.reset()\n",
    "collection = chroma_client.get_or_create_collection(\n",
    "    name=\"landsforsoeg\", metadata={\"hnsw:space\": \"cosine\"})\n",
    "vector_store = ChromaVectorStore(chroma_collection=collection)\n",
    "\n",
    "\n",
    "llm = AzureOpenAI(\n",
    "    model=\"gpt-4\",\n",
    "    deployment_name=\"gpt4\",\n",
    "    api_key=os.getenv(\"OPENAI_API_KEY\"),  \n",
    "    api_version=os.getenv(\"OPENAI_API_VERSION\"), # https://learn.microsoft.com/en-us/azure/ai-services/openai/reference?WT.mc_id=AZ-MVP-5004796\n",
    "    azure_endpoint=os.getenv(\"AZURE_OPENAI_ENDPOINT\")\n",
    ")\n",
    "\n",
    "# You need to deploy your own embedding model as well as your own chat completion model\n",
    "embedding = AzureOpenAIEmbedding(\n",
    "    model=\"text-embedding-ada-002\",\n",
    "    deployment_name=\"text-embedding-ada-002\",\n",
    "    api_key=os.getenv(\"OPENAI_API_KEY\"),  \n",
    "    api_version=os.getenv(\"OPENAI_API_VERSION\"), # https://learn.microsoft.com/en-us/azure/ai-services/openai/reference?WT.mc_id=AZ-MVP-5004796\n",
    "    azure_endpoint=os.getenv(\"AZURE_OPENAI_ENDPOINT\")\n",
    ")\n",
    "\n",
    "# Define the ingestion pipeline to add documents to vector store\n",
    "pipeline = IngestionPipeline(\n",
    "    transformations=[\n",
    "        SentenceSplitter(chunk_size=512, chunk_overlap=20),\n",
    "        embedding,\n",
    "    ],\n",
    "    vector_store=vector_store,\n",
    ")\n",
    "\n",
    "# Create index with the vector store and using the embedding model\n",
    "index = VectorStoreIndex.from_vector_store(\n",
    "    vector_store=vector_store, embed_model=embedding)"
   ]
  },
  {
   "cell_type": "code",
   "execution_count": 22,
   "id": "e0fb9e4b-a9ad-4da6-aaa5-82a17402c458",
   "metadata": {},
   "outputs": [
    {
     "name": "stderr",
     "output_type": "stream",
     "text": [
      "Ignoring wrong pointing object 6 0 (offset 0)\n",
      "Ignoring wrong pointing object 8 0 (offset 0)\n",
      "Ignoring wrong pointing object 12 0 (offset 0)\n",
      "Ignoring wrong pointing object 14 0 (offset 0)\n",
      "Ignoring wrong pointing object 16 0 (offset 0)\n",
      "Ignoring wrong pointing object 18 0 (offset 0)\n",
      "Ignoring wrong pointing object 20 0 (offset 0)\n",
      "Ignoring wrong pointing object 22 0 (offset 0)\n",
      "Ignoring wrong pointing object 89 0 (offset 0)\n",
      "Ignoring wrong pointing object 662 0 (offset 0)\n"
     ]
    },
    {
     "name": "stdout",
     "output_type": "stream",
     "text": [
      "Done\n"
     ]
    }
   ],
   "source": [
    "# Fetch documents\n",
    "documents = SimpleDirectoryReader('./landsforsøg').load_data()\n",
    "\n",
    "# Run pipeline\n",
    "pipeline.run(documents=documents)\n",
    "\n",
    "print(\"Done\")"
   ]
  },
  {
   "cell_type": "code",
   "execution_count": 44,
   "id": "f05231da-1fb9-48f8-b935-859d19e02140",
   "metadata": {},
   "outputs": [],
   "source": [
    "from llama_index.core import PromptTemplate\n",
    "from llama_index.core.query_engine import CustomQueryEngine\n",
    "from llama_index.core.retrievers import BaseRetriever\n",
    "from llama_index.core import get_response_synthesizer\n",
    "from llama_index.core.response_synthesizers import BaseSynthesizer\n",
    "\n",
    "    \n",
    "qa_prompt = PromptTemplate(\n",
    "    \"\"\"You are a helpful assistant that answers questions about the content of documents and provides detailed expert advice. \n",
    "    You must provide your answer in the Danish language.\n",
    "    If the answer contains multiple steps or points, provide the answer in a bullet format.\n",
    "    Below the answer, the source of the answer should be provided including file_name and page number.\n",
    "    ---------------------\n",
    "    {context_str}\n",
    "    ---------------------\n",
    "    Given the context information and not prior knowledge, answer the query.\n",
    "    Query: {query_str}\n",
    "    Answer: \n",
    "    \"\"\",\n",
    ")\n",
    "\n",
    "\n",
    "class RAGQueryEngine(CustomQueryEngine):\n",
    "    \"\"\"RAG String Query Engine.\"\"\"\n",
    "\n",
    "    retriever: BaseRetriever\n",
    "    response_synthesizer: BaseSynthesizer\n",
    "    llm: OpenAI\n",
    "    qa_prompt: PromptTemplate\n",
    "\n",
    "    def custom_query(self, query_str: str):\n",
    "        nodes = self.retriever.retrieve(query_str)\n",
    "        context_str = \"\\n\\n\".join([n.node.get_content(metadata_mode=\"all\") for n in nodes])\n",
    "        #context = qa_prompt.format(\n",
    "        #    context_str=context_str, query_str=query_str)\n",
    "        response = self.llm.complete(\n",
    "            qa_prompt.format(context_str=context_str, query_str=query_str)\n",
    "        )\n",
    "                    \n",
    "        return str(response) + \"\\n\\n-------------------------\\n\\nKontekst:\\n\\n\" + context_str\n",
    "\n",
    "\n",
    "synthesizer = get_response_synthesizer(response_mode=\"compact\")\n",
    "query_engine = RAGQueryEngine(\n",
    "    retriever=index.as_retriever(),\n",
    "    response_synthesizer=synthesizer,\n",
    "    llm=llm,\n",
    "    qa_prompt=qa_prompt,\n",
    ")"
   ]
  },
  {
   "cell_type": "code",
   "execution_count": 55,
   "id": "96f193f2-2f12-4b69-b306-f2fb3bc01b36",
   "metadata": {},
   "outputs": [
    {
     "data": {
      "text/markdown": [
       "For at vælge den bedste vårbygsort, skal du overveje følgende faktorer:\n",
       "\n",
       "- Vælg en sort, der har givet et stort og stabilt udbytte i flere års forsøg.\n",
       "- Vælg en sort, der har lav modtagelighed over for sygdomme, i prioriteret rækkefølge: meldug, bygrust, skoldplet og bygbladplet.\n",
       "- Vælg en sort, der har resistens mod havrecystenematoder.\n",
       "- Vælg en sort, der har en god stråstivhed, så der ikke er behov for vækstregulering.\n",
       "- Vælg en sort, der har en svag tendens til nedknækning af aks og strå.\n",
       "- Hvis du dyrker vårbyg til malt, skal du altid vælge en maltbygsort, der er accepteret af handelspartneren.\n",
       "\n",
       "Kilde: planter_landsforsogene_2023.pdf, side 77 og planter_landsforsogene_2022.pdf, side 89.\n",
       "\n",
       "-------------------------\n",
       "\n",
       "Kontekst:\n",
       "\n",
       "page_label: 77\n",
       "file_name: planter_landsforsogene_2023.pdf\n",
       "file_path: /Users/peerchristensen/Desktop/Projects/advanced-rag-examples/landsforsøg/planter_landsforsogene_2023.pdf\n",
       "file_type: application/pdf\n",
       "file_size: 47095474\n",
       "creation_date: 2024-06-08\n",
       "last_modified_date: 2024-06-08\n",
       "\n",
       "Der var mange grønskud i vårbyg i 2023. Her er det en prøve fra \n",
       "et forsøg med et vandindhold på over 30 procent.FOTO: LEIF HAGELSKJÆR, SEGES INNOVATION\n",
       "STRATEGI\n",
       "Vælg en vårbygsort, der:\n",
       " >har givet et stort og stabilt udbytte i flere års for -\n",
       "søg\n",
       " >har lav modtagelighed over for sygdommene (i \n",
       "prioriteret rækkefølge):\n",
       " – meldug\n",
       " – bygrust\n",
       " – skoldplet og bygbladplet\n",
       " >har resistens mod havrecystenematoder\n",
       " >har en god stråstivhed, så der ikke er behov for \n",
       "vækstregulering\n",
       " >har en svag tendens til nedknækning af aks og \n",
       "strå.\n",
       "Ved dyrkning af vårbyg til malt bør der altid vælges \n",
       "en maltbygsort, der er accepteret af handelspart -\n",
       "neren.\n",
       "\n",
       "page_label: 89\n",
       "file_name: planter_landsforsogene_2022.pdf\n",
       "file_path: /Users/peerchristensen/Desktop/Projects/advanced-rag-examples/landsforsøg/planter_landsforsogene_2022.pdf\n",
       "file_type: application/pdf\n",
       "file_size: 53911931\n",
       "creation_date: 2024-06-07\n",
       "last_modified_date: 2024-06-07\n",
       "\n",
       "17. maj. Forsøget er sået d. 21. marts.FOTO: LEIF HAGELSKJÆR, SEGES INNOVATION\n",
       "STRATEGI\n",
       "Vælg en vårbygsort, der:\n",
       " >har givet et stort og stabilt udbytte i flere års for -\n",
       "søg\n",
       " >har lav modtagelighed over for sygdommene (i \n",
       "prioriteret rækkefølge):\n",
       "– meldug\n",
       "– bygrust\n",
       "– skoldplet og bygbladplet\n",
       " >har resistens mod havrecystenematoder\n",
       " >har en god stråstivhed, så der ikke er behov for \n",
       "vækstregulering\n",
       " >har en svag tendens til nedknækning af aks og \n",
       "strå.\n",
       "Ved dyrkning af vårbyg til malt bør der altid vælges \n",
       "en maltbygsort, der er accepteret af handelspart -\n",
       "neren."
      ],
      "text/plain": [
       "<IPython.core.display.Markdown object>"
      ]
     },
     "metadata": {},
     "output_type": "display_data"
    }
   ],
   "source": [
    "from IPython.display import Markdown, display\n",
    "\n",
    "#query = \"hvem udgiver landsforsøgene?\"\n",
    "#query = \"hvordan kan jeg bedst bekæmpe væselhale?\"\n",
    "query = \"hvordan vælger jeg den bedste vårbygsort?\"\n",
    "#query = \"hvad er reglerne for afstande ved etablering af husdyranlæg?\"\n",
    "#query = \"Beskriv MT-Klovvask\"\n",
    "response = query_engine.query(query)\n",
    "display(Markdown(f\"{response}\"))"
   ]
  },
  {
   "cell_type": "code",
   "execution_count": null,
   "id": "ca7f4edc-00d2-4228-a34b-8296f30b0b4e",
   "metadata": {},
   "outputs": [],
   "source": []
  }
 ],
 "metadata": {
  "kernelspec": {
   "display_name": "Python 3 (ipykernel)",
   "language": "python",
   "name": "python3"
  },
  "language_info": {
   "codemirror_mode": {
    "name": "ipython",
    "version": 3
   },
   "file_extension": ".py",
   "mimetype": "text/x-python",
   "name": "python",
   "nbconvert_exporter": "python",
   "pygments_lexer": "ipython3",
   "version": "3.11.6"
  }
 },
 "nbformat": 4,
 "nbformat_minor": 5
}
